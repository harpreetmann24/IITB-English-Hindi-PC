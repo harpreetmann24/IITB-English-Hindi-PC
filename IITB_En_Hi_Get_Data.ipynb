{
 "cells": [
  {
   "cell_type": "markdown",
   "metadata": {
    "id": "GA_m_2fb0crv"
   },
   "source": [
    "# Install Dependencies"
   ]
  },
  {
   "cell_type": "code",
   "execution_count": null,
   "metadata": {
    "id": "r1fA04_60UmS"
   },
   "outputs": [],
   "source": [
    "# !pip install datasets==1.18.1\n",
    "\n",
    "## Please ensure you have executed this at least once."
   ]
  },
  {
   "cell_type": "markdown",
   "metadata": {
    "id": "lWJZ1N3y0sFV"
   },
   "source": [
    "# Download Parallel Dataset"
   ]
  },
  {
   "cell_type": "code",
   "execution_count": 1,
   "metadata": {
    "execution": {
     "iopub.execute_input": "2022-02-07T01:16:55.291910Z",
     "iopub.status.busy": "2022-02-07T01:16:55.291734Z",
     "iopub.status.idle": "2022-02-07T01:16:55.969539Z",
     "shell.execute_reply": "2022-02-07T01:16:55.969042Z",
     "shell.execute_reply.started": "2022-02-07T01:16:55.291859Z"
    },
    "id": "TXl1MRwm00K0",
    "tags": []
   },
   "outputs": [],
   "source": [
    "from datasets import load_dataset"
   ]
  },
  {
   "cell_type": "code",
   "execution_count": 2,
   "metadata": {
    "execution": {
     "iopub.execute_input": "2022-02-07T01:16:55.970423Z",
     "iopub.status.busy": "2022-02-07T01:16:55.970288Z",
     "iopub.status.idle": "2022-02-07T01:16:57.986416Z",
     "shell.execute_reply": "2022-02-07T01:16:57.986151Z",
     "shell.execute_reply.started": "2022-02-07T01:16:55.970410Z"
    },
    "tags": []
   },
   "outputs": [
    {
     "name": "stderr",
     "output_type": "stream",
     "text": [
      "Using custom data configuration cfilt--iitb-english-hindi-930ee63dc3ad2bff\n",
      "Reusing dataset parquet (/home/harpreet/.cache/huggingface/datasets/parquet/cfilt--iitb-english-hindi-930ee63dc3ad2bff/0.0.0/0b6d5799bb726b24ad7fc7be720c170d8e497f575d02d47537de9a5bac074901)\n"
     ]
    },
    {
     "data": {
      "application/vnd.jupyter.widget-view+json": {
       "model_id": "066b981f9fdc48509f3b6fd252db9e78",
       "version_major": 2,
       "version_minor": 0
      },
      "text/plain": [
       "  0%|          | 0/3 [00:00<?, ?it/s]"
      ]
     },
     "metadata": {},
     "output_type": "display_data"
    }
   ],
   "source": [
    "dataset = load_dataset(\"cfilt/iitb-english-hindi\")"
   ]
  },
  {
   "cell_type": "markdown",
   "metadata": {
    "id": "2XeGVMFs97oO"
   },
   "source": [
    "### View Parallel Corpus Details"
   ]
  },
  {
   "cell_type": "code",
   "execution_count": 3,
   "metadata": {
    "colab": {
     "base_uri": "https://localhost:8080/"
    },
    "execution": {
     "iopub.execute_input": "2022-02-07T01:16:57.987060Z",
     "iopub.status.busy": "2022-02-07T01:16:57.986961Z",
     "iopub.status.idle": "2022-02-07T01:16:57.992337Z",
     "shell.execute_reply": "2022-02-07T01:16:57.992070Z",
     "shell.execute_reply.started": "2022-02-07T01:16:57.987047Z"
    },
    "id": "1Kde71lZ0-Nj",
    "outputId": "4896f249-18b9-4810-a297-05af91e15b84",
    "tags": []
   },
   "outputs": [
    {
     "data": {
      "text/plain": [
       "DatasetDict({\n",
       "    test: Dataset({\n",
       "        features: ['translation'],\n",
       "        num_rows: 2507\n",
       "    })\n",
       "    train: Dataset({\n",
       "        features: ['translation'],\n",
       "        num_rows: 1659083\n",
       "    })\n",
       "    validation: Dataset({\n",
       "        features: ['translation'],\n",
       "        num_rows: 520\n",
       "    })\n",
       "})"
      ]
     },
     "execution_count": 3,
     "metadata": {},
     "output_type": "execute_result"
    }
   ],
   "source": [
    "dataset"
   ]
  },
  {
   "cell_type": "markdown",
   "metadata": {
    "id": "nGYw2auZ1Boj"
   },
   "source": [
    "### Extract Dataset in Source and Target Text files"
   ]
  },
  {
   "cell_type": "code",
   "execution_count": 4,
   "metadata": {
    "execution": {
     "iopub.execute_input": "2022-02-07T01:16:59.243647Z",
     "iopub.status.busy": "2022-02-07T01:16:59.243434Z",
     "iopub.status.idle": "2022-02-07T01:17:07.835190Z",
     "shell.execute_reply": "2022-02-07T01:17:07.834861Z",
     "shell.execute_reply.started": "2022-02-07T01:16:59.243618Z"
    },
    "id": "fiGHV9pu1Huy",
    "tags": []
   },
   "outputs": [],
   "source": [
    "source_train_file = open(\"source_train.txt\", \"w+\", encoding='utf8')\n",
    "target_train_file = open(\"target_train.txt\", \"w+\", encoding='utf8')\n",
    "for translation_pair in dataset[\"train\"][\"translation\"]:\n",
    "  source_sentence = translation_pair[\"en\"]\n",
    "  target_sentence = translation_pair[\"hi\"]\n",
    "  source_train_file.write(source_sentence.strip(\"\\n\") + \"\\n\")\n",
    "  target_train_file.write(target_sentence.strip(\"\\n\") + \"\\n\")\n",
    "source_train_file.close()\n",
    "target_train_file.close()\n",
    "\n",
    "source_valid_file = open(\"source_valid.txt\", \"w+\", encoding='utf8')\n",
    "target_valid_file = open(\"target_valid.txt\", \"w+\", encoding='utf8')\n",
    "for translation_pair in dataset[\"validation\"][\"translation\"]:\n",
    "  source_sentence = translation_pair[\"en\"]\n",
    "  target_sentence = translation_pair[\"hi\"]\n",
    "  source_valid_file.write(source_sentence.strip(\"\\n\") + \"\\n\")\n",
    "  target_valid_file.write(target_sentence.strip(\"\\n\") + \"\\n\")\n",
    "source_valid_file.close()\n",
    "target_valid_file.close()\n",
    "\n",
    "source_test_file = open(\"source_test.txt\", \"w+\", encoding='utf8')\n",
    "target_test_file = open(\"target_test.txt\", \"w+\", encoding='utf8')\n",
    "for translation_pair in dataset[\"test\"][\"translation\"]:\n",
    "  source_sentence = translation_pair[\"en\"]\n",
    "  target_sentence = translation_pair[\"hi\"]\n",
    "  source_test_file.write(source_sentence.strip(\"\\n\") + \"\\n\")\n",
    "  target_test_file.write(target_sentence.strip(\"\\n\") + \"\\n\")\n",
    "source_test_file.close()\n",
    "target_test_file.close()\n"
   ]
  },
  {
   "cell_type": "markdown",
   "metadata": {
    "id": "ypCqM4sm97oU"
   },
   "source": [
    "### Parallel Corpus Sentence Pairs (Linux)"
   ]
  },
  {
   "cell_type": "code",
   "execution_count": 5,
   "metadata": {
    "colab": {
     "base_uri": "https://localhost:8080/"
    },
    "execution": {
     "iopub.execute_input": "2022-02-07T01:17:15.534095Z",
     "iopub.status.busy": "2022-02-07T01:17:15.533969Z",
     "iopub.status.idle": "2022-02-07T01:17:15.726822Z",
     "shell.execute_reply": "2022-02-07T01:17:15.726322Z",
     "shell.execute_reply.started": "2022-02-07T01:17:15.534082Z"
    },
    "id": "Su-QLWNj2q3_",
    "outputId": "db93e78e-8946-4562-8009-3c03ecbb8a07",
    "tags": []
   },
   "outputs": [
    {
     "name": "stdout",
     "output_type": "stream",
     "text": [
      "  1659083 source_train.txt\n",
      "  1659083 target_train.txt\n",
      "      520 source_valid.txt\n",
      "      520 target_valid.txt\n",
      "     2507 source_test.txt\n",
      "     2507 target_test.txt\n",
      "  3324220 total\n"
     ]
    }
   ],
   "source": [
    "! wc -l source_train.txt target_train.txt source_valid.txt target_valid.txt source_test.txt target_test.txt"
   ]
  },
  {
   "cell_type": "markdown",
   "metadata": {
    "id": "7-DrCMSX9-Uj"
   },
   "source": [
    "# Byte Pair Encoding (BPE)"
   ]
  },
  {
   "cell_type": "code",
   "execution_count": null,
   "metadata": {
    "id": "glwfqkT1-Xq0"
   },
   "outputs": [],
   "source": [
    "# ! pip install subword-nmt\n",
    "\n",
    "## Please ensure you have executed this at least once."
   ]
  },
  {
   "cell_type": "markdown",
   "metadata": {
    "id": "-1HwCe8j-DeB"
   },
   "source": [
    "## Learn BPE codes\n",
    "\n",
    "Note: Please make sure to generate the text files by running the previous cells"
   ]
  },
  {
   "cell_type": "code",
   "execution_count": 6,
   "metadata": {
    "execution": {
     "iopub.execute_input": "2022-02-07T01:17:24.845960Z",
     "iopub.status.busy": "2022-02-07T01:17:24.845818Z",
     "iopub.status.idle": "2022-02-07T01:17:24.848729Z",
     "shell.execute_reply": "2022-02-07T01:17:24.848218Z",
     "shell.execute_reply.started": "2022-02-07T01:17:24.845947Z"
    },
    "id": "yadrRQnd_BjW",
    "tags": []
   },
   "outputs": [],
   "source": [
    "import os\n",
    "os.environ['NUM_OF_MERGE_OPERATIONS'] = \"16000\"\n",
    "\n",
    "# Or set environment variable NUM_OF_MERGE_OPERATIONS to desired number of BPE merge operations"
   ]
  },
  {
   "cell_type": "code",
   "execution_count": 7,
   "metadata": {
    "execution": {
     "iopub.execute_input": "2022-02-07T01:17:29.129225Z",
     "iopub.status.busy": "2022-02-07T01:17:29.129082Z",
     "iopub.status.idle": "2022-02-07T01:17:29.695965Z",
     "shell.execute_reply": "2022-02-07T01:17:29.695478Z",
     "shell.execute_reply.started": "2022-02-07T01:17:29.129188Z"
    },
    "id": "L0TT_5_H_WEQ",
    "tags": []
   },
   "outputs": [],
   "source": [
    "! cat source_train.txt source_test.txt source_valid.txt > source_full.txt\n",
    "! cat target_train.txt target_test.txt target_valid.txt > target_full.txt"
   ]
  },
  {
   "cell_type": "code",
   "execution_count": 8,
   "metadata": {
    "execution": {
     "iopub.execute_input": "2022-02-07T01:17:30.069602Z",
     "iopub.status.busy": "2022-02-07T01:17:30.069474Z",
     "iopub.status.idle": "2022-02-07T01:19:26.563351Z",
     "shell.execute_reply": "2022-02-07T01:19:26.562971Z",
     "shell.execute_reply.started": "2022-02-07T01:17:30.069588Z"
    },
    "id": "IKz78QsM-ClQ"
   },
   "outputs": [
    {
     "name": "stdout",
     "output_type": "stream",
     "text": [
      "100%|####################################| 16000/16000 [00:39<00:00, 405.30it/s]\n",
      "100%|####################################| 16000/16000 [00:52<00:00, 303.78it/s]\n"
     ]
    }
   ],
   "source": [
    "! subword-nmt learn-bpe -s $NUM_OF_MERGE_OPERATIONS < source_full.txt > source-bpe.codes\n",
    "! subword-nmt learn-bpe -s $NUM_OF_MERGE_OPERATIONS < target_full.txt > target-bpe.codes\n"
   ]
  },
  {
   "cell_type": "markdown",
   "metadata": {
    "id": "qrn8-Jy6_quR"
   },
   "source": [
    "## Apply BPE"
   ]
  },
  {
   "cell_type": "code",
   "execution_count": 9,
   "metadata": {
    "execution": {
     "iopub.execute_input": "2022-02-07T01:19:26.564280Z",
     "iopub.status.busy": "2022-02-07T01:19:26.564157Z",
     "iopub.status.idle": "2022-02-07T01:20:41.537450Z",
     "shell.execute_reply": "2022-02-07T01:20:41.536967Z",
     "shell.execute_reply.started": "2022-02-07T01:19:26.564267Z"
    },
    "id": "qXSGRJC6-uXG",
    "tags": []
   },
   "outputs": [],
   "source": [
    "! subword-nmt apply-bpe -c source-bpe.codes < source_train.txt > source_train_bpe.txt\n",
    "! subword-nmt apply-bpe -c source-bpe.codes < source_valid.txt > source_valid_bpe.txt\n",
    "! subword-nmt apply-bpe -c source-bpe.codes < source_test.txt > source_test_bpe.txt\n",
    "\n",
    "! subword-nmt apply-bpe -c target-bpe.codes < target_train.txt > target_train_bpe.txt\n",
    "! subword-nmt apply-bpe -c target-bpe.codes < target_valid.txt > target_valid_bpe.txt\n",
    "! subword-nmt apply-bpe -c target-bpe.codes < target_test.txt > target_test_bpe.txt\n"
   ]
  },
  {
   "cell_type": "markdown",
   "metadata": {
    "id": "9mF08CKAAgA0"
   },
   "source": [
    "## BPE Codes (Linux)"
   ]
  },
  {
   "cell_type": "code",
   "execution_count": 10,
   "metadata": {
    "colab": {
     "base_uri": "https://localhost:8080/"
    },
    "execution": {
     "iopub.execute_input": "2022-02-07T01:37:10.960252Z",
     "iopub.status.busy": "2022-02-07T01:37:10.960037Z",
     "iopub.status.idle": "2022-02-07T01:37:11.079316Z",
     "shell.execute_reply": "2022-02-07T01:37:11.078822Z",
     "shell.execute_reply.started": "2022-02-07T01:37:10.960234Z"
    },
    "id": "qxBoYjt8Afev",
    "outputId": "4fd79ae1-567f-42b8-e2e1-b95913a4d1a8"
   },
   "outputs": [
    {
     "name": "stdout",
     "output_type": "stream",
     "text": [
      " 16001 source-bpe.codes\n",
      " 16001 target-bpe.codes\n",
      " 32002 total\n"
     ]
    }
   ],
   "source": [
    "! wc -l source-bpe.codes target-bpe.codes"
   ]
  },
  {
   "cell_type": "markdown",
   "metadata": {
    "id": "Z54ceN8tBJWn"
   },
   "source": [
    "## BPE Parallel Corpus Sentence Pairs (Linux)"
   ]
  },
  {
   "cell_type": "code",
   "execution_count": 11,
   "metadata": {
    "colab": {
     "base_uri": "https://localhost:8080/"
    },
    "execution": {
     "iopub.execute_input": "2022-02-07T01:37:14.523351Z",
     "iopub.status.busy": "2022-02-07T01:37:14.523226Z",
     "iopub.status.idle": "2022-02-07T01:37:14.729341Z",
     "shell.execute_reply": "2022-02-07T01:37:14.728881Z",
     "shell.execute_reply.started": "2022-02-07T01:37:14.523338Z"
    },
    "id": "D8CHJKOKBQ5v",
    "outputId": "cbb0b95f-e5a6-4874-e9b0-ba8389dc1d93"
   },
   "outputs": [
    {
     "name": "stdout",
     "output_type": "stream",
     "text": [
      "  1659083 source_train_bpe.txt\n",
      "  1659083 target_train_bpe.txt\n",
      "      520 source_valid_bpe.txt\n",
      "      520 target_valid_bpe.txt\n",
      "     2507 source_test_bpe.txt\n",
      "     2507 target_test_bpe.txt\n",
      "  3324220 total\n"
     ]
    }
   ],
   "source": [
    "! wc -l source_train_bpe.txt target_train_bpe.txt source_valid_bpe.txt target_valid_bpe.txt source_test_bpe.txt target_test_bpe.txt"
   ]
  },
  {
   "cell_type": "code",
   "execution_count": 12,
   "metadata": {
    "execution": {
     "iopub.execute_input": "2022-02-07T08:17:38.288445Z",
     "iopub.status.busy": "2022-02-07T08:17:38.288284Z",
     "iopub.status.idle": "2022-02-07T08:17:38.405755Z",
     "shell.execute_reply": "2022-02-07T08:17:38.405379Z",
     "shell.execute_reply.started": "2022-02-07T08:17:38.288418Z"
    }
   },
   "outputs": [
    {
     "name": "stdout",
     "output_type": "stream",
     "text": [
      "Give your application an acces@@ sibility work@@ out\n",
      "Ac@@ cer@@ c@@ is@@ er Acc@@ es@@ sibility Expl@@ ore@@ r\n",
      "The default plugin layout for the bottom panel\n",
      "The default plugin layout for the top panel\n",
      "A list of plugins that are disabled by default\n"
     ]
    }
   ],
   "source": [
    "!head -n 5 source_train_bpe.txt"
   ]
  },
  {
   "cell_type": "code",
   "execution_count": 13,
   "metadata": {
    "execution": {
     "iopub.execute_input": "2022-02-07T08:18:12.336145Z",
     "iopub.status.busy": "2022-02-07T08:18:12.336006Z",
     "iopub.status.idle": "2022-02-07T08:18:12.454164Z",
     "shell.execute_reply": "2022-02-07T08:18:12.453686Z",
     "shell.execute_reply.started": "2022-02-07T08:18:12.336132Z"
    }
   },
   "outputs": [
    {
     "name": "stdout",
     "output_type": "stream",
     "text": [
      "Give your application an accessibility workout\n",
      "Accerciser Accessibility Explorer\n",
      "The default plugin layout for the bottom panel\n",
      "The default plugin layout for the top panel\n",
      "A list of plugins that are disabled by default\n"
     ]
    }
   ],
   "source": [
    "!head -n 5 source_train.txt"
   ]
  },
  {
   "cell_type": "code",
   "execution_count": 15,
   "metadata": {
    "execution": {
     "iopub.execute_input": "2022-02-07T08:20:55.340401Z",
     "iopub.status.busy": "2022-02-07T08:20:55.340258Z",
     "iopub.status.idle": "2022-02-07T08:20:55.459394Z",
     "shell.execute_reply": "2022-02-07T08:20:55.458958Z",
     "shell.execute_reply.started": "2022-02-07T08:20:55.340388Z"
    },
    "tags": []
   },
   "outputs": [
    {
     "name": "stdout",
     "output_type": "stream",
     "text": [
      "अपने अनुप्रयोग को पहुंच@@ नीयता व्यायाम का लाभ दें\n",
      "एक्से@@ र्@@ सा@@ इस@@ र पहुंच@@ नीयता अन्वे@@ षक\n",
      "निचले पटल के लिए डि@@ फो@@ ल्ट प्लग@@ -इन खाका\n",
      "ऊपरी पटल के लिए डि@@ फो@@ ल्ट प्लग@@ -इन खाका\n",
      "उन प्लग@@ -@@ इ@@ नों की सूची जिन्हें डि@@ फो@@ ल्ट रूप से निष्क्रिय किया गया है\n"
     ]
    }
   ],
   "source": [
    "!head -n 5 target_train_bpe.txt"
   ]
  },
  {
   "cell_type": "code",
   "execution_count": 1,
   "metadata": {
    "execution": {
     "iopub.execute_input": "2022-02-10T17:05:21.741512Z",
     "iopub.status.busy": "2022-02-10T17:05:21.741356Z",
     "iopub.status.idle": "2022-02-10T17:05:21.852965Z",
     "shell.execute_reply": "2022-02-10T17:05:21.852410Z",
     "shell.execute_reply.started": "2022-02-10T17:05:21.741474Z"
    }
   },
   "outputs": [
    {
     "name": "stdout",
     "output_type": "stream",
     "text": [
      "Give your application an accessibility workout\n",
      "Accerciser Accessibility Explorer\n",
      "The default plugin layout for the bottom panel\n",
      "The default plugin layout for the top panel\n",
      "A list of plugins that are disabled by default\n"
     ]
    }
   ],
   "source": [
    "!head -n 5 source_full.txt"
   ]
  },
  {
   "cell_type": "code",
   "execution_count": null,
   "metadata": {},
   "outputs": [],
   "source": []
  }
 ],
 "metadata": {
  "colab": {
   "name": "IITB_En_Hi_Get_Data.ipynb",
   "provenance": []
  },
  "kernelspec": {
   "display_name": "pt10",
   "language": "python",
   "name": "pt10"
  },
  "language_info": {
   "codemirror_mode": {
    "name": "ipython",
    "version": 3
   },
   "file_extension": ".py",
   "mimetype": "text/x-python",
   "name": "python",
   "nbconvert_exporter": "python",
   "pygments_lexer": "ipython3",
   "version": "3.8.12"
  }
 },
 "nbformat": 4,
 "nbformat_minor": 4
}
